{
 "cells": [
  {
   "cell_type": "code",
   "execution_count": 1,
   "id": "quantitative-authority",
   "metadata": {},
   "outputs": [],
   "source": [
    "reset -fs"
   ]
  },
  {
   "cell_type": "markdown",
   "id": "actual-occupation",
   "metadata": {},
   "source": [
    "# Import packages"
   ]
  },
  {
   "cell_type": "code",
   "execution_count": 2,
   "id": "limited-province",
   "metadata": {},
   "outputs": [],
   "source": [
    "import numpy as np \n",
    "import pandas as pd\n",
    "import matplotlib.pyplot as plt\n",
    "import seaborn as sns\n",
    "\n",
    "from sklearn.base            import BaseEstimator\n",
    "from sklearn.metrics import mean_absolute_error\n",
    "\n",
    "from sklearn.model_selection import RandomizedSearchCV\n",
    "from sklearn.pipeline        import Pipeline\n",
    "from sklearn.preprocessing   import StandardScaler\n",
    "from sklearn.model_selection import train_test_split\n",
    "from sklearn.linear_model import LinearRegression\n",
    "from sklearn.ensemble import GradientBoostingRegressor\n",
    "from sklearn.ensemble import RandomForestRegressor\n",
    "from sklearn.tree import DecisionTreeRegressor\n",
    "from sklearn.preprocessing import OneHotEncoder \n",
    "from sklearn import set_config\n",
    "import warnings\n",
    "set_config(display='diagram')\n",
    "warnings.filterwarnings('ignore')"
   ]
  },
  {
   "cell_type": "markdown",
   "id": "cordless-development",
   "metadata": {},
   "source": [
    "# Load data file"
   ]
  },
  {
   "cell_type": "code",
   "execution_count": 3,
   "id": "parallel-image",
   "metadata": {},
   "outputs": [],
   "source": [
    "bike_df=pd.read_csv(\"SeoulBikeData.csv\")"
   ]
  },
  {
   "cell_type": "markdown",
   "id": "decent-virus",
   "metadata": {},
   "source": [
    "# Check data type"
   ]
  },
  {
   "cell_type": "code",
   "execution_count": 4,
   "id": "polyphonic-terry",
   "metadata": {},
   "outputs": [
    {
     "data": {
      "text/plain": [
       "Date                          object\n",
       "Rented Bike Count              int64\n",
       "Hour                           int64\n",
       "Temperature(�C)              float64\n",
       "Humidity(%)                    int64\n",
       "Wind speed (m/s)             float64\n",
       "Visibility (10m)               int64\n",
       "Dew point temperature(�C)    float64\n",
       "Solar Radiation (MJ/m2)      float64\n",
       "Rainfall(mm)                 float64\n",
       "Snowfall (cm)                float64\n",
       "Seasons                       object\n",
       "Holiday                       object\n",
       "Functioning Day               object\n",
       "dtype: object"
      ]
     },
     "execution_count": 4,
     "metadata": {},
     "output_type": "execute_result"
    }
   ],
   "source": [
    "bike_df.dtypes"
   ]
  },
  {
   "cell_type": "markdown",
   "id": "stainless-remove",
   "metadata": {},
   "source": [
    "# Extract year and month from Date"
   ]
  },
  {
   "cell_type": "code",
   "execution_count": 5,
   "id": "miniature-premiere",
   "metadata": {},
   "outputs": [],
   "source": [
    "bike_df['year'] = pd.DatetimeIndex(bike_df['Date']).year\n",
    "bike_df['month'] = pd.DatetimeIndex(bike_df['Date']).month\n"
   ]
  },
  {
   "cell_type": "markdown",
   "id": "opponent-argument",
   "metadata": {},
   "source": [
    "# Rename Columns"
   ]
  },
  {
   "cell_type": "code",
   "execution_count": 6,
   "id": "leading-farmer",
   "metadata": {},
   "outputs": [],
   "source": [
    "bike_df.rename(columns={'Rented Bike Count':'Count', \n",
    "                        'Temperature(�C)':'Temp', \n",
    "                        'Humidity(%)':'Hum', \n",
    "                        'Wind speed (m/s)': 'Wind_speed', \n",
    "                        'Visibility (10m)':'Visi',\n",
    "                        'Dew point temperature(�C)':'Dew_point_temp',\n",
    "                        'Solar Radiation (MJ/m2)':'Solar_rad', \n",
    "                        'Rainfall(mm)':'Rainfall',\n",
    "                        'Snowfall (cm)': 'Snowfall',\n",
    "                        'Functioning Day': 'Functioning_day',\n",
    "                        },inplace=True)"
   ]
  },
  {
   "cell_type": "markdown",
   "id": "vocational-metabolism",
   "metadata": {},
   "source": [
    "# Check if there exist missing values in dataset"
   ]
  },
  {
   "cell_type": "code",
   "execution_count": 7,
   "id": "exceptional-gravity",
   "metadata": {},
   "outputs": [
    {
     "data": {
      "text/plain": [
       "Date               0\n",
       "Count              0\n",
       "Hour               0\n",
       "Temp               0\n",
       "Hum                0\n",
       "Wind_speed         0\n",
       "Visi               0\n",
       "Dew_point_temp     0\n",
       "Solar_rad          0\n",
       "Rainfall           0\n",
       "Snowfall           0\n",
       "Seasons            0\n",
       "Holiday            0\n",
       "Functioning_day    0\n",
       "year               0\n",
       "month              0\n",
       "dtype: int64"
      ]
     },
     "execution_count": 7,
     "metadata": {},
     "output_type": "execute_result"
    }
   ],
   "source": [
    "#Missing values in dataset\n",
    "bike_df.isnull().sum()"
   ]
  },
  {
   "cell_type": "code",
   "execution_count": 8,
   "id": "collect-police",
   "metadata": {},
   "outputs": [
    {
     "data": {
      "text/html": [
       "<div>\n",
       "<style scoped>\n",
       "    .dataframe tbody tr th:only-of-type {\n",
       "        vertical-align: middle;\n",
       "    }\n",
       "\n",
       "    .dataframe tbody tr th {\n",
       "        vertical-align: top;\n",
       "    }\n",
       "\n",
       "    .dataframe thead th {\n",
       "        text-align: right;\n",
       "    }\n",
       "</style>\n",
       "<table border=\"1\" class=\"dataframe\">\n",
       "  <thead>\n",
       "    <tr style=\"text-align: right;\">\n",
       "      <th></th>\n",
       "      <th>Date</th>\n",
       "      <th>Count</th>\n",
       "      <th>Hour</th>\n",
       "      <th>Temp</th>\n",
       "      <th>Hum</th>\n",
       "      <th>Wind_speed</th>\n",
       "      <th>Visi</th>\n",
       "      <th>Dew_point_temp</th>\n",
       "      <th>Solar_rad</th>\n",
       "      <th>Rainfall</th>\n",
       "      <th>Snowfall</th>\n",
       "      <th>Seasons</th>\n",
       "      <th>Holiday</th>\n",
       "      <th>Functioning_day</th>\n",
       "      <th>year</th>\n",
       "      <th>month</th>\n",
       "    </tr>\n",
       "  </thead>\n",
       "  <tbody>\n",
       "    <tr>\n",
       "      <th>0</th>\n",
       "      <td>01/12/2017</td>\n",
       "      <td>254</td>\n",
       "      <td>0</td>\n",
       "      <td>-5.2</td>\n",
       "      <td>37</td>\n",
       "      <td>2.2</td>\n",
       "      <td>2000</td>\n",
       "      <td>-17.6</td>\n",
       "      <td>0.0</td>\n",
       "      <td>0.0</td>\n",
       "      <td>0.0</td>\n",
       "      <td>Winter</td>\n",
       "      <td>No Holiday</td>\n",
       "      <td>Yes</td>\n",
       "      <td>2017</td>\n",
       "      <td>1</td>\n",
       "    </tr>\n",
       "    <tr>\n",
       "      <th>1</th>\n",
       "      <td>01/12/2017</td>\n",
       "      <td>204</td>\n",
       "      <td>1</td>\n",
       "      <td>-5.5</td>\n",
       "      <td>38</td>\n",
       "      <td>0.8</td>\n",
       "      <td>2000</td>\n",
       "      <td>-17.6</td>\n",
       "      <td>0.0</td>\n",
       "      <td>0.0</td>\n",
       "      <td>0.0</td>\n",
       "      <td>Winter</td>\n",
       "      <td>No Holiday</td>\n",
       "      <td>Yes</td>\n",
       "      <td>2017</td>\n",
       "      <td>1</td>\n",
       "    </tr>\n",
       "    <tr>\n",
       "      <th>2</th>\n",
       "      <td>01/12/2017</td>\n",
       "      <td>173</td>\n",
       "      <td>2</td>\n",
       "      <td>-6.0</td>\n",
       "      <td>39</td>\n",
       "      <td>1.0</td>\n",
       "      <td>2000</td>\n",
       "      <td>-17.7</td>\n",
       "      <td>0.0</td>\n",
       "      <td>0.0</td>\n",
       "      <td>0.0</td>\n",
       "      <td>Winter</td>\n",
       "      <td>No Holiday</td>\n",
       "      <td>Yes</td>\n",
       "      <td>2017</td>\n",
       "      <td>1</td>\n",
       "    </tr>\n",
       "    <tr>\n",
       "      <th>3</th>\n",
       "      <td>01/12/2017</td>\n",
       "      <td>107</td>\n",
       "      <td>3</td>\n",
       "      <td>-6.2</td>\n",
       "      <td>40</td>\n",
       "      <td>0.9</td>\n",
       "      <td>2000</td>\n",
       "      <td>-17.6</td>\n",
       "      <td>0.0</td>\n",
       "      <td>0.0</td>\n",
       "      <td>0.0</td>\n",
       "      <td>Winter</td>\n",
       "      <td>No Holiday</td>\n",
       "      <td>Yes</td>\n",
       "      <td>2017</td>\n",
       "      <td>1</td>\n",
       "    </tr>\n",
       "    <tr>\n",
       "      <th>4</th>\n",
       "      <td>01/12/2017</td>\n",
       "      <td>78</td>\n",
       "      <td>4</td>\n",
       "      <td>-6.0</td>\n",
       "      <td>36</td>\n",
       "      <td>2.3</td>\n",
       "      <td>2000</td>\n",
       "      <td>-18.6</td>\n",
       "      <td>0.0</td>\n",
       "      <td>0.0</td>\n",
       "      <td>0.0</td>\n",
       "      <td>Winter</td>\n",
       "      <td>No Holiday</td>\n",
       "      <td>Yes</td>\n",
       "      <td>2017</td>\n",
       "      <td>1</td>\n",
       "    </tr>\n",
       "    <tr>\n",
       "      <th>...</th>\n",
       "      <td>...</td>\n",
       "      <td>...</td>\n",
       "      <td>...</td>\n",
       "      <td>...</td>\n",
       "      <td>...</td>\n",
       "      <td>...</td>\n",
       "      <td>...</td>\n",
       "      <td>...</td>\n",
       "      <td>...</td>\n",
       "      <td>...</td>\n",
       "      <td>...</td>\n",
       "      <td>...</td>\n",
       "      <td>...</td>\n",
       "      <td>...</td>\n",
       "      <td>...</td>\n",
       "      <td>...</td>\n",
       "    </tr>\n",
       "    <tr>\n",
       "      <th>8755</th>\n",
       "      <td>30/11/2018</td>\n",
       "      <td>1003</td>\n",
       "      <td>19</td>\n",
       "      <td>4.2</td>\n",
       "      <td>34</td>\n",
       "      <td>2.6</td>\n",
       "      <td>1894</td>\n",
       "      <td>-10.3</td>\n",
       "      <td>0.0</td>\n",
       "      <td>0.0</td>\n",
       "      <td>0.0</td>\n",
       "      <td>Autumn</td>\n",
       "      <td>No Holiday</td>\n",
       "      <td>Yes</td>\n",
       "      <td>2018</td>\n",
       "      <td>11</td>\n",
       "    </tr>\n",
       "    <tr>\n",
       "      <th>8756</th>\n",
       "      <td>30/11/2018</td>\n",
       "      <td>764</td>\n",
       "      <td>20</td>\n",
       "      <td>3.4</td>\n",
       "      <td>37</td>\n",
       "      <td>2.3</td>\n",
       "      <td>2000</td>\n",
       "      <td>-9.9</td>\n",
       "      <td>0.0</td>\n",
       "      <td>0.0</td>\n",
       "      <td>0.0</td>\n",
       "      <td>Autumn</td>\n",
       "      <td>No Holiday</td>\n",
       "      <td>Yes</td>\n",
       "      <td>2018</td>\n",
       "      <td>11</td>\n",
       "    </tr>\n",
       "    <tr>\n",
       "      <th>8757</th>\n",
       "      <td>30/11/2018</td>\n",
       "      <td>694</td>\n",
       "      <td>21</td>\n",
       "      <td>2.6</td>\n",
       "      <td>39</td>\n",
       "      <td>0.3</td>\n",
       "      <td>1968</td>\n",
       "      <td>-9.9</td>\n",
       "      <td>0.0</td>\n",
       "      <td>0.0</td>\n",
       "      <td>0.0</td>\n",
       "      <td>Autumn</td>\n",
       "      <td>No Holiday</td>\n",
       "      <td>Yes</td>\n",
       "      <td>2018</td>\n",
       "      <td>11</td>\n",
       "    </tr>\n",
       "    <tr>\n",
       "      <th>8758</th>\n",
       "      <td>30/11/2018</td>\n",
       "      <td>712</td>\n",
       "      <td>22</td>\n",
       "      <td>2.1</td>\n",
       "      <td>41</td>\n",
       "      <td>1.0</td>\n",
       "      <td>1859</td>\n",
       "      <td>-9.8</td>\n",
       "      <td>0.0</td>\n",
       "      <td>0.0</td>\n",
       "      <td>0.0</td>\n",
       "      <td>Autumn</td>\n",
       "      <td>No Holiday</td>\n",
       "      <td>Yes</td>\n",
       "      <td>2018</td>\n",
       "      <td>11</td>\n",
       "    </tr>\n",
       "    <tr>\n",
       "      <th>8759</th>\n",
       "      <td>30/11/2018</td>\n",
       "      <td>584</td>\n",
       "      <td>23</td>\n",
       "      <td>1.9</td>\n",
       "      <td>43</td>\n",
       "      <td>1.3</td>\n",
       "      <td>1909</td>\n",
       "      <td>-9.3</td>\n",
       "      <td>0.0</td>\n",
       "      <td>0.0</td>\n",
       "      <td>0.0</td>\n",
       "      <td>Autumn</td>\n",
       "      <td>No Holiday</td>\n",
       "      <td>Yes</td>\n",
       "      <td>2018</td>\n",
       "      <td>11</td>\n",
       "    </tr>\n",
       "  </tbody>\n",
       "</table>\n",
       "<p>8760 rows × 16 columns</p>\n",
       "</div>"
      ],
      "text/plain": [
       "            Date  Count  Hour  Temp  Hum  Wind_speed  Visi  Dew_point_temp  \\\n",
       "0     01/12/2017    254     0  -5.2   37         2.2  2000           -17.6   \n",
       "1     01/12/2017    204     1  -5.5   38         0.8  2000           -17.6   \n",
       "2     01/12/2017    173     2  -6.0   39         1.0  2000           -17.7   \n",
       "3     01/12/2017    107     3  -6.2   40         0.9  2000           -17.6   \n",
       "4     01/12/2017     78     4  -6.0   36         2.3  2000           -18.6   \n",
       "...          ...    ...   ...   ...  ...         ...   ...             ...   \n",
       "8755  30/11/2018   1003    19   4.2   34         2.6  1894           -10.3   \n",
       "8756  30/11/2018    764    20   3.4   37         2.3  2000            -9.9   \n",
       "8757  30/11/2018    694    21   2.6   39         0.3  1968            -9.9   \n",
       "8758  30/11/2018    712    22   2.1   41         1.0  1859            -9.8   \n",
       "8759  30/11/2018    584    23   1.9   43         1.3  1909            -9.3   \n",
       "\n",
       "      Solar_rad  Rainfall  Snowfall Seasons     Holiday Functioning_day  year  \\\n",
       "0           0.0       0.0       0.0  Winter  No Holiday             Yes  2017   \n",
       "1           0.0       0.0       0.0  Winter  No Holiday             Yes  2017   \n",
       "2           0.0       0.0       0.0  Winter  No Holiday             Yes  2017   \n",
       "3           0.0       0.0       0.0  Winter  No Holiday             Yes  2017   \n",
       "4           0.0       0.0       0.0  Winter  No Holiday             Yes  2017   \n",
       "...         ...       ...       ...     ...         ...             ...   ...   \n",
       "8755        0.0       0.0       0.0  Autumn  No Holiday             Yes  2018   \n",
       "8756        0.0       0.0       0.0  Autumn  No Holiday             Yes  2018   \n",
       "8757        0.0       0.0       0.0  Autumn  No Holiday             Yes  2018   \n",
       "8758        0.0       0.0       0.0  Autumn  No Holiday             Yes  2018   \n",
       "8759        0.0       0.0       0.0  Autumn  No Holiday             Yes  2018   \n",
       "\n",
       "      month  \n",
       "0         1  \n",
       "1         1  \n",
       "2         1  \n",
       "3         1  \n",
       "4         1  \n",
       "...     ...  \n",
       "8755     11  \n",
       "8756     11  \n",
       "8757     11  \n",
       "8758     11  \n",
       "8759     11  \n",
       "\n",
       "[8760 rows x 16 columns]"
      ]
     },
     "execution_count": 8,
     "metadata": {},
     "output_type": "execute_result"
    }
   ],
   "source": [
    "# display dataframe \n",
    "bike_df"
   ]
  },
  {
   "cell_type": "markdown",
   "id": "mobile-advocate",
   "metadata": {},
   "source": [
    "# Heat map for correlation matrix of attributes"
   ]
  },
  {
   "cell_type": "code",
   "execution_count": 9,
   "id": "bored-dealer",
   "metadata": {},
   "outputs": [
    {
     "data": {
      "image/png": "[encoded data removed]",
      "text/plain": [
       "<Figure size 1080x576 with 2 Axes>"
      ]
     },
     "metadata": {
      "needs_background": "light"
     },
     "output_type": "display_data"
    }
   ],
   "source": [
    "correMtr=bike_df[[\"Temp\",\"Hour\", \"year\", \"month\",\"Wind_speed\",\"Visi\",\"Hum\",\"Dew_point_temp\", \"Solar_rad\",\"Rainfall\",\"Snowfall\", \"Count\"]].corr()\n",
    "mask=np.array(correMtr)\n",
    "mask[np.tril_indices_from(mask)]=False\n",
    "\n",
    "fig,ax=plt.subplots(figsize=(15,8))\n",
    "sns.heatmap(correMtr,mask=mask,vmax=0.8,square=True,annot=True,ax=ax)\n",
    "ax.set_title('Correlation matrix of attributes')\n",
    "plt.show()"
   ]
  },
  {
   "cell_type": "markdown",
   "id": "sexual-emphasis",
   "metadata": {},
   "source": [
    "We can observe from the heat map above that temperature, hour, year, visibility, dew point temperature, and solar radiation has relatively strong correlation with rented bike counts. The humidity has relatively strong negative correlation with count"
   ]
  },
  {
   "cell_type": "markdown",
   "id": "minimal-unknown",
   "metadata": {},
   "source": [
    "# Barplot for Year distribution of counts"
   ]
  },
  {
   "cell_type": "code",
   "execution_count": 10,
   "id": "responsible-anthropology",
   "metadata": {},
   "outputs": [
    {
     "data": {
      "image/png": "[encoded data removed]",
      "text/plain": [
       "<Figure size 1080x576 with 1 Axes>"
      ]
     },
     "metadata": {
      "needs_background": "light"
     },
     "output_type": "display_data"
    }
   ],
   "source": [
    "fig,ax=plt.subplots(figsize=(15,8))\n",
    "sns.barplot(data=bike_df,x='year',y='Count',hue='Hour')\n",
    "ax.set_title('Year wise distribution of counts')\n",
    "plt.show()"
   ]
  },
  {
   "cell_type": "markdown",
   "id": "coral-designation",
   "metadata": {},
   "source": [
    "We can see from this plot that the overall bike sharing demands in 2018 is higher than 2017.\n",
    "\n",
    "And there exists a clear pattern of demands trend based on hours of day."
   ]
  },
  {
   "cell_type": "markdown",
   "id": "greater-brighton",
   "metadata": {},
   "source": [
    "# Barplot for seasons distribution of counts"
   ]
  },
  {
   "cell_type": "code",
   "execution_count": 11,
   "id": "closing-engagement",
   "metadata": {},
   "outputs": [
    {
     "data": {
      "image/png": "[encoded data removed]",
      "text/plain": [
       "<Figure size 1080x576 with 1 Axes>"
      ]
     },
     "metadata": {
      "needs_background": "light"
     },
     "output_type": "display_data"
    }
   ],
   "source": [
    "fig,ax=plt.subplots(figsize=(15,8))\n",
    "sns.barplot(data=bike_df,x='Seasons',y='Count',hue='Hour')\n",
    "ax.set_title('Seasons wise distribution of counts')\n",
    "plt.show()"
   ]
  },
  {
   "cell_type": "markdown",
   "id": "exciting-document",
   "metadata": {},
   "source": [
    "For each season, the bike sharing demands still influenced by the hours and have repetitive pattern.\n",
    "\n",
    "Also, the overall demands count start to grow in winter linearly and reach its peak at summer and then start to going downhill in autumn."
   ]
  },
  {
   "cell_type": "markdown",
   "id": "satellite-slovakia",
   "metadata": {},
   "source": [
    "# Change Date to datetime and change year, Seasons, Hoilday, and Functioning day to category type"
   ]
  },
  {
   "cell_type": "code",
   "execution_count": 12,
   "id": "dress-latitude",
   "metadata": {},
   "outputs": [],
   "source": [
    "bike_df['Date']=pd.to_datetime(bike_df.Date)\n",
    "bike_df['year']=bike_df.year.astype('category')\n",
    "bike_df['Seasons']=bike_df.Seasons.astype('category')\n",
    "bike_df['Holiday']=bike_df.Holiday.astype('category')\n",
    "bike_df['Functioning_day']=bike_df.Functioning_day.astype('category')"
   ]
  },
  {
   "cell_type": "markdown",
   "id": "grave-appearance",
   "metadata": {},
   "source": [
    "# Helper class (you do not have to use it)"
   ]
  },
  {
   "cell_type": "code",
   "execution_count": 13,
   "id": "protecting-being",
   "metadata": {},
   "outputs": [],
   "source": [
    "class DummyEstimator(BaseEstimator):\n",
    "    \"Pass through class, methods are present but do nothing.\"\n",
    "    def fit(self): pass\n",
    "    def score(self): pass"
   ]
  },
  {
   "cell_type": "markdown",
   "id": "korean-cincinnati",
   "metadata": {},
   "source": [
    "# convert Seasons, Hoilday, Functioning_day, and year to dummies variables"
   ]
  },
  {
   "cell_type": "code",
   "execution_count": 14,
   "id": "substantial-compound",
   "metadata": {},
   "outputs": [],
   "source": [
    "cat_attributes=['Seasons','Holiday','Functioning_day','year']\n",
    "bike_df=pd.get_dummies(bike_df,columns=cat_attributes)"
   ]
  },
  {
   "cell_type": "markdown",
   "id": "experienced-replication",
   "metadata": {},
   "source": [
    "# Split the dataset into the train and test data with 80% for train size and 20% for test size"
   ]
  },
  {
   "cell_type": "code",
   "execution_count": 15,
   "id": "western-filename",
   "metadata": {},
   "outputs": [],
   "source": [
    "X_train,X_test,y_train,y_test=train_test_split(bike_df.iloc[:,2:],bike_df.iloc[:,1:2],test_size=0.2, random_state=42)"
   ]
  },
  {
   "cell_type": "markdown",
   "id": "structured-discount",
   "metadata": {},
   "source": [
    "# Create a pipeline for standardScaler and DummyEstimator"
   ]
  },
  {
   "cell_type": "code",
   "execution_count": 16,
   "id": "severe-mattress",
   "metadata": {},
   "outputs": [],
   "source": [
    "pipe = Pipeline([\n",
    "                    ('scaler', StandardScaler()),\n",
    "                    ('clf', DummyEstimator())\n",
    "                ])"
   ]
  },
  {
   "cell_type": "markdown",
   "id": "another-composer",
   "metadata": {},
   "source": [
    "# Show evidence of automated cross validation search across algorithms and hyperparameters"
   ]
  },
  {
   "cell_type": "code",
   "execution_count": 17,
   "id": "biblical-evidence",
   "metadata": {},
   "outputs": [
    {
     "name": "stdout",
     "output_type": "stream",
     "text": [
      "Fitting 5 folds for each of 25 candidates, totalling 125 fits\n"
     ]
    },
    {
     "data": {
      "text/html": [
       "<style>div.sk-top-container {color: black;background-color: white;}div.sk-toggleable {background-color: white;}label.sk-toggleable__label {cursor: pointer;display: block;width: 100%;margin-bottom: 0;padding: 0.2em 0.3em;box-sizing: border-box;text-align: center;}div.sk-toggleable__content {max-height: 0;max-width: 0;overflow: hidden;text-align: left;background-color: #f0f8ff;}div.sk-toggleable__content pre {margin: 0.2em;color: black;border-radius: 0.25em;background-color: #f0f8ff;}input.sk-toggleable__control:checked~div.sk-toggleable__content {max-height: 200px;max-width: 100%;overflow: auto;}div.sk-estimator input.sk-toggleable__control:checked~label.sk-toggleable__label {background-color: #d4ebff;}div.sk-label input.sk-toggleable__control:checked~label.sk-toggleable__label {background-color: #d4ebff;}input.sk-hidden--visually {border: 0;clip: rect(1px 1px 1px 1px);clip: rect(1px, 1px, 1px, 1px);height: 1px;margin: -1px;overflow: hidden;padding: 0;position: absolute;width: 1px;}div.sk-estimator {font-family: monospace;background-color: #f0f8ff;margin: 0.25em 0.25em;border: 1px dotted black;border-radius: 0.25em;box-sizing: border-box;}div.sk-estimator:hover {background-color: #d4ebff;}div.sk-parallel-item::after {content: \"\";width: 100%;border-bottom: 1px solid gray;flex-grow: 1;}div.sk-label:hover label.sk-toggleable__label {background-color: #d4ebff;}div.sk-serial::before {content: \"\";position: absolute;border-left: 1px solid gray;box-sizing: border-box;top: 2em;bottom: 0;left: 50%;}div.sk-serial {display: flex;flex-direction: column;align-items: center;background-color: white;}div.sk-item {z-index: 1;}div.sk-parallel {display: flex;align-items: stretch;justify-content: center;background-color: white;}div.sk-parallel-item {display: flex;flex-direction: column;position: relative;background-color: white;}div.sk-parallel-item:first-child::after {align-self: flex-end;width: 50%;}div.sk-parallel-item:last-child::after {align-self: flex-start;width: 50%;}div.sk-parallel-item:only-child::after {width: 0;}div.sk-dashed-wrapped {border: 1px dashed gray;margin: 0.2em;box-sizing: border-box;padding-bottom: 0.1em;background-color: white;position: relative;}div.sk-label label {font-family: monospace;font-weight: bold;background-color: white;display: inline-block;line-height: 1.2em;}div.sk-label-container {position: relative;z-index: 2;text-align: center;}div.sk-container {display: inline-block;position: relative;}</style><div class=\"sk-top-container\"><div class=\"sk-container\"><div class=\"sk-item sk-dashed-wrapped\"><div class=\"sk-label-container\"><div class=\"sk-label sk-toggleable\"><input class=\"sk-toggleable__control sk-hidden--visually\" id=\"cb830d49-1ffb-4fec-9ed3-8bae3170c1b4\" type=\"checkbox\" ><label class=\"sk-toggleable__label\" for=\"cb830d49-1ffb-4fec-9ed3-8bae3170c1b4\">Pipeline</label><div class=\"sk-toggleable__content\"><pre>Pipeline(steps=[('scaler', StandardScaler()),\n",
       "                ('clf',\n",
       "                 RandomForestRegressor(max_depth=250, min_samples_leaf=2,\n",
       "                                       n_estimators=150))])</pre></div></div></div><div class=\"sk-serial\"><div class=\"sk-item\"><div class=\"sk-estimator sk-toggleable\"><input class=\"sk-toggleable__control sk-hidden--visually\" id=\"74c39169-1790-4cc4-a14d-a7117385e304\" type=\"checkbox\" ><label class=\"sk-toggleable__label\" for=\"74c39169-1790-4cc4-a14d-a7117385e304\">StandardScaler</label><div class=\"sk-toggleable__content\"><pre>StandardScaler()</pre></div></div></div><div class=\"sk-item\"><div class=\"sk-estimator sk-toggleable\"><input class=\"sk-toggleable__control sk-hidden--visually\" id=\"3a2cdc29-13b1-400c-b116-d369c4169a62\" type=\"checkbox\" ><label class=\"sk-toggleable__label\" for=\"3a2cdc29-13b1-400c-b116-d369c4169a62\">RandomForestRegressor</label><div class=\"sk-toggleable__content\"><pre>RandomForestRegressor(max_depth=250, min_samples_leaf=2, n_estimators=150)</pre></div></div></div></div></div></div></div>"
      ],
      "text/plain": [
       "Pipeline(steps=[('scaler', StandardScaler()),\n",
       "                ('clf',\n",
       "                 RandomForestRegressor(max_depth=250, min_samples_leaf=2,\n",
       "                                       n_estimators=150))])"
      ]
     },
     "execution_count": 17,
     "metadata": {},
     "output_type": "execute_result"
    }
   ],
   "source": [
    "# Create search space for RandomSearchCV\n",
    "# Here I select 7 regression models in order to find the\n",
    "# best model among them with best hyperparameters\n",
    "search_space = [\n",
    "    {\n",
    "        'clf': [LinearRegression()],\n",
    "    },\n",
    "    {\n",
    "        'clf': [GradientBoostingRegressor()],\n",
    "        'clf__n_estimators': range(50, 300, 50),\n",
    "        'clf__loss': ['ls', 'lad', 'huber', 'quantile'],\n",
    "        'clf__criterion':['friedman_mse', 'mse', 'mae'],\n",
    "        'clf__max_depth': range(50, 300, 50),\n",
    "        'clf__min_samples_leaf': [1, 2],\n",
    "        'clf__max_features':['auto', 'sqrt', 'log2'],\n",
    "    },\n",
    "    {\n",
    "        'clf': [RandomForestRegressor()],\n",
    "        'clf__n_estimators': range(50, 300, 50),\n",
    "        'clf__criterion': ['mse', 'mae'],\n",
    "        'clf__max_depth': range(50, 300, 50),\n",
    "        'clf__min_samples_leaf': [1, 2],\n",
    "        'clf__max_features':['auto', 'sqrt', 'log2']\n",
    "    },\n",
    "    {\n",
    "        'clf': [DecisionTreeRegressor()],\n",
    "        'clf__criterion':['mse', 'friedman_mse', 'mae', 'poisson'],\n",
    "        'clf__splitter':['best', 'random'],\n",
    "        'clf__max_depth': range(50, 300, 50),\n",
    "        'clf__min_samples_leaf': [1, 2],\n",
    "        'clf__max_features':['auto', 'sqrt', 'log2']\n",
    "    },\n",
    "]\n",
    "\n",
    "\n",
    "clf_algos_rand = RandomizedSearchCV(estimator=pipe, \n",
    "                                    param_distributions=search_space, \n",
    "                                    n_iter=25,\n",
    "                                    cv=5, \n",
    "                                    n_jobs=-1,\n",
    "                                    verbose=1,\n",
    "                                    scoring=mean_absolute_error)\n",
    "\n",
    "# fit the best model and find its best hyperparameters\n",
    "clf_algos_rand.fit(X_train, y_train)\n",
    "clf_algos_rand.best_estimator_"
   ]
  },
  {
   "cell_type": "code",
   "execution_count": 25,
   "id": "parental-farmer",
   "metadata": {},
   "outputs": [
    {
     "data": {
      "text/html": [
       "<style>div.sk-top-container {color: black;background-color: white;}div.sk-toggleable {background-color: white;}label.sk-toggleable__label {cursor: pointer;display: block;width: 100%;margin-bottom: 0;padding: 0.2em 0.3em;box-sizing: border-box;text-align: center;}div.sk-toggleable__content {max-height: 0;max-width: 0;overflow: hidden;text-align: left;background-color: #f0f8ff;}div.sk-toggleable__content pre {margin: 0.2em;color: black;border-radius: 0.25em;background-color: #f0f8ff;}input.sk-toggleable__control:checked~div.sk-toggleable__content {max-height: 200px;max-width: 100%;overflow: auto;}div.sk-estimator input.sk-toggleable__control:checked~label.sk-toggleable__label {background-color: #d4ebff;}div.sk-label input.sk-toggleable__control:checked~label.sk-toggleable__label {background-color: #d4ebff;}input.sk-hidden--visually {border: 0;clip: rect(1px 1px 1px 1px);clip: rect(1px, 1px, 1px, 1px);height: 1px;margin: -1px;overflow: hidden;padding: 0;position: absolute;width: 1px;}div.sk-estimator {font-family: monospace;background-color: #f0f8ff;margin: 0.25em 0.25em;border: 1px dotted black;border-radius: 0.25em;box-sizing: border-box;}div.sk-estimator:hover {background-color: #d4ebff;}div.sk-parallel-item::after {content: \"\";width: 100%;border-bottom: 1px solid gray;flex-grow: 1;}div.sk-label:hover label.sk-toggleable__label {background-color: #d4ebff;}div.sk-serial::before {content: \"\";position: absolute;border-left: 1px solid gray;box-sizing: border-box;top: 2em;bottom: 0;left: 50%;}div.sk-serial {display: flex;flex-direction: column;align-items: center;background-color: white;}div.sk-item {z-index: 1;}div.sk-parallel {display: flex;align-items: stretch;justify-content: center;background-color: white;}div.sk-parallel-item {display: flex;flex-direction: column;position: relative;background-color: white;}div.sk-parallel-item:first-child::after {align-self: flex-end;width: 50%;}div.sk-parallel-item:last-child::after {align-self: flex-start;width: 50%;}div.sk-parallel-item:only-child::after {width: 0;}div.sk-dashed-wrapped {border: 1px dashed gray;margin: 0.2em;box-sizing: border-box;padding-bottom: 0.1em;background-color: white;position: relative;}div.sk-label label {font-family: monospace;font-weight: bold;background-color: white;display: inline-block;line-height: 1.2em;}div.sk-label-container {position: relative;z-index: 2;text-align: center;}div.sk-container {display: inline-block;position: relative;}</style><div class=\"sk-top-container\"><div class=\"sk-container\"><div class=\"sk-item\"><div class=\"sk-estimator sk-toggleable\"><input class=\"sk-toggleable__control sk-hidden--visually\" id=\"57c9fd06-fda5-4edb-a02a-d62698be51e9\" type=\"checkbox\" checked><label class=\"sk-toggleable__label\" for=\"57c9fd06-fda5-4edb-a02a-d62698be51e9\">RandomForestRegressor</label><div class=\"sk-toggleable__content\"><pre>RandomForestRegressor(max_depth=250, min_samples_leaf=2, n_estimators=150)</pre></div></div></div></div></div>"
      ],
      "text/plain": [
       "RandomForestRegressor(max_depth=250, min_samples_leaf=2, n_estimators=150)"
      ]
     },
     "execution_count": 25,
     "metadata": {},
     "output_type": "execute_result"
    }
   ],
   "source": [
    "clf_algos_rand.best_estimator_[1]"
   ]
  },
  {
   "cell_type": "markdown",
   "id": "brazilian-daniel",
   "metadata": {},
   "source": [
    "# Create pipeline for the final model"
   ]
  },
  {
   "cell_type": "code",
   "execution_count": 26,
   "id": "different-apollo",
   "metadata": {},
   "outputs": [],
   "source": [
    "pipe = Pipeline(steps=[('scaler', StandardScaler()),\n",
    "                ('clf',\n",
    "                 RandomForestRegressor(max_depth=250, n_estimators=150,\n",
    "                                       min_samples_leaf=2))])"
   ]
  },
  {
   "cell_type": "code",
   "execution_count": 28,
   "id": "impressed-economics",
   "metadata": {},
   "outputs": [],
   "source": [
    "y_test  = y_test.values.ravel()\n",
    "pipe.fit(X_train, y_train);\n",
    "y_pred  = pipe.predict(X_test)\n",
    "\n",
    "# I use MAE as the evaluation metric here\n",
    "mae = mean_absolute_error(y_test, y_pred)"
   ]
  },
  {
   "cell_type": "markdown",
   "id": "electronic-membership",
   "metadata": {},
   "source": [
    "# Conclusion:"
   ]
  },
  {
   "cell_type": "markdown",
   "id": "sporting-checklist",
   "metadata": {},
   "source": [
    "The best final model is shown as below:"
   ]
  },
  {
   "cell_type": "code",
   "execution_count": 30,
   "id": "protecting-humidity",
   "metadata": {},
   "outputs": [
    {
     "data": {
      "text/html": [
       "<style>div.sk-top-container {color: black;background-color: white;}div.sk-toggleable {background-color: white;}label.sk-toggleable__label {cursor: pointer;display: block;width: 100%;margin-bottom: 0;padding: 0.2em 0.3em;box-sizing: border-box;text-align: center;}div.sk-toggleable__content {max-height: 0;max-width: 0;overflow: hidden;text-align: left;background-color: #f0f8ff;}div.sk-toggleable__content pre {margin: 0.2em;color: black;border-radius: 0.25em;background-color: #f0f8ff;}input.sk-toggleable__control:checked~div.sk-toggleable__content {max-height: 200px;max-width: 100%;overflow: auto;}div.sk-estimator input.sk-toggleable__control:checked~label.sk-toggleable__label {background-color: #d4ebff;}div.sk-label input.sk-toggleable__control:checked~label.sk-toggleable__label {background-color: #d4ebff;}input.sk-hidden--visually {border: 0;clip: rect(1px 1px 1px 1px);clip: rect(1px, 1px, 1px, 1px);height: 1px;margin: -1px;overflow: hidden;padding: 0;position: absolute;width: 1px;}div.sk-estimator {font-family: monospace;background-color: #f0f8ff;margin: 0.25em 0.25em;border: 1px dotted black;border-radius: 0.25em;box-sizing: border-box;}div.sk-estimator:hover {background-color: #d4ebff;}div.sk-parallel-item::after {content: \"\";width: 100%;border-bottom: 1px solid gray;flex-grow: 1;}div.sk-label:hover label.sk-toggleable__label {background-color: #d4ebff;}div.sk-serial::before {content: \"\";position: absolute;border-left: 1px solid gray;box-sizing: border-box;top: 2em;bottom: 0;left: 50%;}div.sk-serial {display: flex;flex-direction: column;align-items: center;background-color: white;}div.sk-item {z-index: 1;}div.sk-parallel {display: flex;align-items: stretch;justify-content: center;background-color: white;}div.sk-parallel-item {display: flex;flex-direction: column;position: relative;background-color: white;}div.sk-parallel-item:first-child::after {align-self: flex-end;width: 50%;}div.sk-parallel-item:last-child::after {align-self: flex-start;width: 50%;}div.sk-parallel-item:only-child::after {width: 0;}div.sk-dashed-wrapped {border: 1px dashed gray;margin: 0.2em;box-sizing: border-box;padding-bottom: 0.1em;background-color: white;position: relative;}div.sk-label label {font-family: monospace;font-weight: bold;background-color: white;display: inline-block;line-height: 1.2em;}div.sk-label-container {position: relative;z-index: 2;text-align: center;}div.sk-container {display: inline-block;position: relative;}</style><div class=\"sk-top-container\"><div class=\"sk-container\"><div class=\"sk-item sk-dashed-wrapped\"><div class=\"sk-label-container\"><div class=\"sk-label sk-toggleable\"><input class=\"sk-toggleable__control sk-hidden--visually\" id=\"af054255-1667-40b7-86f9-035aaf8991ca\" type=\"checkbox\" ><label class=\"sk-toggleable__label\" for=\"af054255-1667-40b7-86f9-035aaf8991ca\">Pipeline</label><div class=\"sk-toggleable__content\"><pre>Pipeline(steps=[('scaler', StandardScaler()),\n",
       "                ('clf',\n",
       "                 RandomForestRegressor(max_depth=250, min_samples_leaf=2,\n",
       "                                       n_estimators=150))])</pre></div></div></div><div class=\"sk-serial\"><div class=\"sk-item\"><div class=\"sk-estimator sk-toggleable\"><input class=\"sk-toggleable__control sk-hidden--visually\" id=\"c1a41e57-3575-4495-9d60-42fe0f9aef3f\" type=\"checkbox\" ><label class=\"sk-toggleable__label\" for=\"c1a41e57-3575-4495-9d60-42fe0f9aef3f\">StandardScaler</label><div class=\"sk-toggleable__content\"><pre>StandardScaler()</pre></div></div></div><div class=\"sk-item\"><div class=\"sk-estimator sk-toggleable\"><input class=\"sk-toggleable__control sk-hidden--visually\" id=\"fa304723-8f78-4da0-bda5-d3074d74f570\" type=\"checkbox\" ><label class=\"sk-toggleable__label\" for=\"fa304723-8f78-4da0-bda5-d3074d74f570\">RandomForestRegressor</label><div class=\"sk-toggleable__content\"><pre>RandomForestRegressor(max_depth=250, min_samples_leaf=2, n_estimators=150)</pre></div></div></div></div></div></div></div>"
      ],
      "text/plain": [
       "Pipeline(steps=[('scaler', StandardScaler()),\n",
       "                ('clf',\n",
       "                 RandomForestRegressor(max_depth=250, min_samples_leaf=2,\n",
       "                                       n_estimators=150))])"
      ]
     },
     "execution_count": 30,
     "metadata": {},
     "output_type": "execute_result"
    }
   ],
   "source": [
    "pipe"
   ]
  },
  {
   "cell_type": "markdown",
   "id": "extra-football",
   "metadata": {},
   "source": [
    "- In the DecisionTreeRegressor: \n",
    "\n",
    "    <br> the maximum depth of decision tree is 250<br>\n",
    "    <br> the n estimators is 150<br>\n",
    "    <br> the min_samples_leaf is 2<br>\n",
    "    "
   ]
  },
  {
   "cell_type": "code",
   "execution_count": 31,
   "id": "beautiful-wrong",
   "metadata": {},
   "outputs": [
    {
     "name": "stdout",
     "output_type": "stream",
     "text": [
      "3556\n"
     ]
    }
   ],
   "source": [
    "print(max(bike_df['Count']))"
   ]
  },
  {
   "cell_type": "code",
   "execution_count": 32,
   "id": "committed-rainbow",
   "metadata": {},
   "outputs": [
    {
     "name": "stdout",
     "output_type": "stream",
     "text": [
      "0\n"
     ]
    }
   ],
   "source": [
    "print(min(bike_df['Count']))"
   ]
  },
  {
   "cell_type": "code",
   "execution_count": 33,
   "id": "compound-things",
   "metadata": {},
   "outputs": [
    {
     "name": "stdout",
     "output_type": "stream",
     "text": [
      "MAE score: 140.96\n"
     ]
    }
   ],
   "source": [
    "print(f'MAE score: {mae:.2f}')"
   ]
  },
  {
   "cell_type": "markdown",
   "id": "chief-diesel",
   "metadata": {},
   "source": [
    "The mae score 140.96 means that on average, the forecast's distance from the true value is 140.96\n",
    "\n",
    "Since the range of rented bike sharing demand is from 0 to 3556, mae is a good evaluation metric for my final model. \n",
    "\n",
    "Therefore, in a business sense, decision tree regressor helps me predict the bike sharing demands given certain features such as times, days, hours, weathers, and etc.\n",
    "\n",
    "By asking a series of questions, the model narrows down the possible values to get confident enough to make a prediction.\n",
    "\n",
    "If I am a bike sharing company owner/employee, then I will be able to estimate how many bike I need to provide for the customers. (allocating resources more efficiently)"
   ]
  },
  {
   "cell_type": "markdown",
   "id": "corresponding-hygiene",
   "metadata": {},
   "source": [
    "# Next steps"
   ]
  },
  {
   "cell_type": "markdown",
   "id": "buried-detector",
   "metadata": {},
   "source": [
    "I can try neural network and more feature engineering to see if I can further improve my prediction."
   ]
  }
 ],
 "metadata": {
  "kernelspec": {
   "display_name": "Python 3",
   "language": "python",
   "name": "python3"
  },
  "language_info": {
   "codemirror_mode": {
    "name": "ipython",
    "version": 3
   },
   "file_extension": ".py",
   "mimetype": "text/x-python",
   "name": "python",
   "nbconvert_exporter": "python",
   "pygments_lexer": "ipython3",
   "version": "3.8.2"
  }
 },
 "nbformat": 4,
 "nbformat_minor": 5
}
